{
 "cells": [
  {
   "cell_type": "code",
   "execution_count": 1,
   "metadata": {},
   "outputs": [],
   "source": [
    "import csv\n",
    "from bs4 import BeautifulSoup\n",
    "from selenium import webdriver\n",
    "from webdriver_manager.chrome import ChromeDriverManager\n"
   ]
  },
  {
   "cell_type": "code",
   "execution_count": 40,
   "metadata": {},
   "outputs": [
    {
     "name": "stderr",
     "output_type": "stream",
     "text": [
      "\n",
      "\n",
      "====== WebDriver manager ======\n",
      "Current google-chrome version is 99.0.4844\n",
      "Get LATEST chromedriver version for 99.0.4844 google-chrome\n",
      "Driver [/Users/brunoozaki/.wdm/drivers/chromedriver/mac64/99.0.4844.51/chromedriver] found in cache\n",
      "/opt/anaconda3/lib/python3.7/site-packages/ipykernel_launcher.py:1: DeprecationWarning: executable_path has been deprecated, please pass in a Service object\n",
      "  \"\"\"Entry point for launching an IPython kernel.\n"
     ]
    }
   ],
   "source": [
    "\n",
    "driver = webdriver.Chrome(ChromeDriverManager().install())\n",
    "url = 'https://www.amazon.com.br'\n",
    "driver.get(url)"
   ]
  },
  {
   "cell_type": "code",
   "execution_count": 41,
   "metadata": {},
   "outputs": [],
   "source": [
    "def get_url(search_term):\n",
    "    template = \"https://www.amazon.com.br/s?k={}\"\n",
    "    search_term = search_term.replace(' ', '+')\n",
    "    return template.format(search_term)"
   ]
  },
  {
   "cell_type": "code",
   "execution_count": 42,
   "metadata": {},
   "outputs": [
    {
     "name": "stdout",
     "output_type": "stream",
     "text": [
      "https://www.amazon.com.br/s?k=data+science\n"
     ]
    }
   ],
   "source": [
    "url = get_url('data science')\n",
    "print(url)\n",
    "driver.get(url)"
   ]
  },
  {
   "cell_type": "code",
   "execution_count": 43,
   "metadata": {},
   "outputs": [],
   "source": [
    "soup = BeautifulSoup(driver.page_source, 'html.parser')"
   ]
  },
  {
   "cell_type": "code",
   "execution_count": 60,
   "metadata": {},
   "outputs": [],
   "source": [
    "results = soup.find_all('div', {'data-component-type': 's-search-result'})"
   ]
  },
  {
   "cell_type": "code",
   "execution_count": 61,
   "metadata": {},
   "outputs": [
    {
     "data": {
      "text/plain": [
       "56"
      ]
     },
     "execution_count": 61,
     "metadata": {},
     "output_type": "execute_result"
    }
   ],
   "source": [
    "len(results)"
   ]
  },
  {
   "cell_type": "code",
   "execution_count": 62,
   "metadata": {},
   "outputs": [],
   "source": [
    "item = results[4]"
   ]
  },
  {
   "cell_type": "code",
   "execution_count": 63,
   "metadata": {},
   "outputs": [],
   "source": [
    "atag = item.h2.a"
   ]
  },
  {
   "cell_type": "code",
   "execution_count": 64,
   "metadata": {},
   "outputs": [],
   "source": [
    "description  = atag.text.strip()"
   ]
  },
  {
   "cell_type": "code",
   "execution_count": 65,
   "metadata": {},
   "outputs": [],
   "source": [
    "url = 'https://www.amazon.com.br' + atag.get('href')"
   ]
  },
  {
   "cell_type": "code",
   "execution_count": 69,
   "metadata": {},
   "outputs": [],
   "source": [
    "price_parent = item.find('span', 'a-price')"
   ]
  },
  {
   "cell_type": "code",
   "execution_count": 70,
   "metadata": {},
   "outputs": [],
   "source": [
    "price = price_parent.find('span', 'a-offscreen').text"
   ]
  },
  {
   "cell_type": "code",
   "execution_count": 71,
   "metadata": {},
   "outputs": [],
   "source": [
    "rating = item.i.text"
   ]
  },
  {
   "cell_type": "code",
   "execution_count": 74,
   "metadata": {},
   "outputs": [
    {
     "data": {
      "text/plain": [
       "'4,7 de 5 estrelas'"
      ]
     },
     "execution_count": 74,
     "metadata": {},
     "output_type": "execute_result"
    }
   ],
   "source": [
    "rating"
   ]
  },
  {
   "cell_type": "code",
   "execution_count": 80,
   "metadata": {},
   "outputs": [],
   "source": [
    "review_count = item.find('span', 'a-size-base s-underline-text').text"
   ]
  },
  {
   "cell_type": "code",
   "execution_count": 81,
   "metadata": {},
   "outputs": [
    {
     "data": {
      "text/plain": [
       "'657'"
      ]
     },
     "execution_count": 81,
     "metadata": {},
     "output_type": "execute_result"
    }
   ],
   "source": [
    "review_count"
   ]
  },
  {
   "cell_type": "code",
   "execution_count": 84,
   "metadata": {},
   "outputs": [],
   "source": [
    "def extract_record(item):\n",
    "    atag = item.h2.a\n",
    "    description  = atag.text.strip()\n",
    "    url = 'https://www.amazon.com.br' + atag.get('href')\n",
    "\n",
    "\n",
    "    try: \n",
    "        price_parent = item.find('span', 'a-price')\n",
    "        price = price_parent.find('span', 'a-offscreen').text\n",
    "\n",
    "    except AttributeError:\n",
    "        return \n",
    "\n",
    "    try:\n",
    "        rating = item.i.text\n",
    "        review_count = item.find('span', 'a-size-base s-underline-text').text\n",
    "    except AttributeError:\n",
    "        rating = ''\n",
    "        review_count = ''\n",
    "\n",
    "    result = (description, price, rating, review_count, url)\n",
    "\n",
    "    return result"
   ]
  },
  {
   "cell_type": "code",
   "execution_count": 85,
   "metadata": {},
   "outputs": [],
   "source": [
    "records = []\n",
    "results = soup.find_all('div', {'data-component-type': 's-search-result'})\n",
    "\n",
    "for item in results:\n",
    "    record = extract_record(item)\n",
    "    if record:\n",
    "        records.append(record)"
   ]
  },
  {
   "cell_type": "code",
   "execution_count": 86,
   "metadata": {},
   "outputs": [
    {
     "data": {
      "text/plain": [
       "[('Homo Deus',\n",
       "  'R$\\xa044,90',\n",
       "  '4,8 de 5 estrelas',\n",
       "  '7.023',\n",
       "  'https://www.amazon.com.br/gp/slredirect/picassoRedirect.html/ref=pa_sp_atf_aps_sr_pg1_1?ie=UTF8&adId=A05156301SPFV8GV46A0O&url=%2FHomo-deus-Yuval-Noah-Harari%2Fdp%2F8535928197%2Fref%3Dsr_1_1_sspa%3Fkeywords%3Ddata%2Bscience%26qid%3D1649202374%26sr%3D8-1-spons%26psc%3D1&qualifier=1649202374&id=2261315069424878&widgetName=sp_atf'),\n",
       " ('21 lições para o século 21',\n",
       "  'R$\\xa046,90',\n",
       "  '4,8 de 5 estrelas',\n",
       "  '6.217',\n",
       "  'https://www.amazon.com.br/gp/slredirect/picassoRedirect.html/ref=pa_sp_atf_aps_sr_pg1_1?ie=UTF8&adId=A05151063MUK2I6ZSDSF6&url=%2F21-li%25C3%25A7%25C3%25B5es-para-s%25C3%25A9culo%2Fdp%2F8535930914%2Fref%3Dsr_1_2_sspa%3Fkeywords%3Ddata%2Bscience%26qid%3D1649202374%26sr%3D8-2-spons%26psc%3D1&qualifier=1649202374&id=2261315069424878&widgetName=sp_atf'),\n",
       " ('Breve história de quase tudo',\n",
       "  'R$\\xa056,90',\n",
       "  '4,7 de 5 estrelas',\n",
       "  '484',\n",
       "  'https://www.amazon.com.br/gp/slredirect/picassoRedirect.html/ref=pa_sp_atf_aps_sr_pg1_1?ie=UTF8&adId=A05153503SRKR8YQ3EH56&url=%2FBreve-hist%25C3%25B3ria-quase-tudo-Bryson%2Fdp%2F8535907246%2Fref%3Dsr_1_3_sspa%3Fkeywords%3Ddata%2Bscience%26qid%3D1649202374%26sr%3D8-3-spons%26psc%3D1&qualifier=1649202374&id=2261315069424878&widgetName=sp_atf'),\n",
       " ('Raízes do Brasil',\n",
       "  'R$\\xa044,19',\n",
       "  '4,8 de 5 estrelas',\n",
       "  '1.274',\n",
       "  'https://www.amazon.com.br/gp/slredirect/picassoRedirect.html/ref=pa_sp_atf_aps_sr_pg1_1?ie=UTF8&adId=A05152941OK2PPMXO96I1&url=%2FRa%25C3%25ADzes-Brasil-S%25C3%25A9rgio-Buarque-Holanda%2Fdp%2F8535925481%2Fref%3Dsr_1_4_sspa%3Fkeywords%3Ddata%2Bscience%26qid%3D1649202374%26sr%3D8-4-spons%26psc%3D1&qualifier=1649202374&id=2261315069424878&widgetName=sp_atf'),\n",
       " ('Data science para negócios: O que você precisa saber sobre mineração de dados e pensamento analítico de dados',\n",
       "  'R$\\xa062,90',\n",
       "  '4,7 de 5 estrelas',\n",
       "  '657',\n",
       "  'https://www.amazon.com.br/Data-Science-para-neg%C3%B3cios-Fawcett/dp/8576089726/ref=sr_1_5?keywords=data+science&qid=1649202374&sr=8-5&ufe=app_do%3Aamzn1.fos.6d798eae-cadf-45de-946a-f477d47705b9'),\n",
       " ('Data Science Do Zero: Noções Fundamentais com Python',\n",
       "  'R$\\xa059,90',\n",
       "  '4,7 de 5 estrelas',\n",
       "  '131',\n",
       "  'https://www.amazon.com.br/Data-Science-Do-Zero-Fundamentais/dp/8550811769/ref=sr_1_6?keywords=data+science&qid=1649202374&sr=8-6'),\n",
       " ('Data Science from Scratch: First Principles with Python',\n",
       "  'R$\\xa0254,24',\n",
       "  '4,4 de 5 estrelas',\n",
       "  '437',\n",
       "  'https://www.amazon.com.br/Data-Science-Scratch-Joel-Grus/dp/1492041130/ref=sr_1_7?keywords=data+science&qid=1649202374&sr=8-7&ufe=app_do%3Aamzn1.fos.e05b01e0-91a7-477e-a514-15a32325a6d6'),\n",
       " ('Data Science for Business: What You Need to Know about Data Mining and Data-Analytic Thinking',\n",
       "  'R$\\xa0261,85',\n",
       "  '4,5 de 5 estrelas',\n",
       "  '716',\n",
       "  'https://www.amazon.com.br/Data-Science-Business-Data-Analytic-Thinking/dp/1449361323/ref=sr_1_8?keywords=data+science&qid=1649202374&sr=8-8&ufe=app_do%3Aamzn1.fos.e05b01e0-91a7-477e-a514-15a32325a6d6'),\n",
       " ('Data Science do Zero: Primeiras Regras com o Python',\n",
       "  'R$\\xa056,61',\n",
       "  '4,5 de 5 estrelas',\n",
       "  '640',\n",
       "  'https://www.amazon.com.br/Data-Science-Zero-Primeiras-Regras-ebook/dp/B07Y3ZQQGZ/ref=sr_1_9?keywords=data+science&qid=1649202374&sr=8-9'),\n",
       " ('Data science para leigos',\n",
       "  'R$\\xa063,92',\n",
       "  '4,2 de 5 estrelas',\n",
       "  '49',\n",
       "  'https://www.amazon.com.br/Data-Science-Leigos-Lillian-Pierson/dp/8550804800/ref=sr_1_10?keywords=data+science&qid=1649202374&sr=8-10&ufe=app_do%3Aamzn1.fos.6d798eae-cadf-45de-946a-f477d47705b9'),\n",
       " ('Data Science (The MIT Press Essential Knowledge series) (English Edition)',\n",
       "  'R$\\xa064,90',\n",
       "  '4,5 de 5 estrelas',\n",
       "  '282',\n",
       "  'https://www.amazon.com.br/Science-Press-Essential-Knowledge-English-ebook/dp/B08BT6M8JR/ref=sr_1_11?keywords=data+science&qid=1649202374&sr=8-11&ufe=app_do%3Aamzn1.fos.6121c6c4-c969-43ae-92f7-cc248fc6181d'),\n",
       " ('Doing Data Science: Straight Talk from the Frontline',\n",
       "  'R$\\xa0248,44',\n",
       "  '4,3 de 5 estrelas',\n",
       "  '126',\n",
       "  'https://www.amazon.com.br/Doing-Data-Science-Rachel-Schutt/dp/1449358659/ref=sr_1_12?keywords=data+science&qid=1649202374&sr=8-12&ufe=app_do%3Aamzn1.fos.e05b01e0-91a7-477e-a514-15a32325a6d6'),\n",
       " ('Data Science for Beginners: 4 Books in 1 — Master the Basics of Python Programming and Learn The Art of Data Science with Real-World Applications to Artificial ... and Machine Learning (English Edition)',\n",
       "  'R$\\xa00,00',\n",
       "  '4,4 de 5 estrelas',\n",
       "  '149',\n",
       "  'https://www.amazon.com.br/Data-Science-Beginners-Programming-Learning-ebook/dp/B0842X2C28/ref=sr_1_13?keywords=data+science&qid=1649202374&sr=8-13&ufe=app_do%3Aamzn1.fos.25548f35-0de7-44b3-b28e-0f56f3f96147'),\n",
       " ('Python Data Science Handbook: Essential Tools for Working with Data (English Edition)',\n",
       "  'R$\\xa082,99',\n",
       "  '4,5 de 5 estrelas',\n",
       "  '436',\n",
       "  'https://www.amazon.com.br/Python-Data-Science-Handbook-Essential-ebook/dp/B01N2JT3ST/ref=sr_1_14?keywords=data+science&qid=1649202374&sr=8-14&ufe=app_do%3Aamzn1.fos.25548f35-0de7-44b3-b28e-0f56f3f96147'),\n",
       " ('Python Para Data Science: E Machine Learning Descomplicado',\n",
       "  'R$\\xa073,84',\n",
       "  '4,5 de 5 estrelas',\n",
       "  '37',\n",
       "  'https://www.amazon.com.br/Python-Para-Data-Science-Descomplicado/dp/6555203374/ref=sr_1_15?keywords=data+science&qid=1649202374&sr=8-15&ufe=app_do%3Aamzn1.fos.6d798eae-cadf-45de-946a-f477d47705b9'),\n",
       " ('R para data science: Importe, arrume, transforme, visualize e modele dados',\n",
       "  'R$\\xa083,92',\n",
       "  '4,7 de 5 estrelas',\n",
       "  '306',\n",
       "  'https://www.amazon.com.br/para-data-science-transforme-visualize/dp/8550803243/ref=sr_1_16?keywords=data+science&qid=1649202374&sr=8-16&ufe=app_do%3Aamzn1.fos.6d798eae-cadf-45de-946a-f477d47705b9'),\n",
       " ('Estatística prática para cientistas de dados: 50 conceitos essenciais',\n",
       "  'R$\\xa059,92',\n",
       "  '4,6 de 5 estrelas',\n",
       "  '564',\n",
       "  'https://www.amazon.com.br/Estat%C3%ADstica-Pr%C3%A1tica-Para-Cientistas-Dados/dp/855080603X/ref=sr_1_17?keywords=data+science&qid=1649202374&sr=8-17'),\n",
       " ('Python Para Análise de Dados: Tratamento de Dados com Pandas, NumPy e IPython',\n",
       "  'R$\\xa082,00',\n",
       "  '4,8 de 5 estrelas',\n",
       "  '620',\n",
       "  'https://www.amazon.com.br/Python-Para-An%C3%A1lise-Dados-Tratamento/dp/8575226479/ref=sr_1_18?keywords=data+science&qid=1649202374&sr=8-18&ufe=app_do%3Aamzn1.fos.6d798eae-cadf-45de-946a-f477d47705b9'),\n",
       " ('Business Intelligence e Análise de Dados para Gestão do Negócio',\n",
       "  'R$\\xa0115,50',\n",
       "  '4,8 de 5 estrelas',\n",
       "  '257',\n",
       "  'https://www.amazon.com.br/Business-Intelligence-An%C3%A1lise-Gest%C3%A3o-Neg%C3%B3cio/dp/8582605196/ref=sr_1_19?keywords=data+science&qid=1649202374&sr=8-19&ufe=app_do%3Aamzn1.fos.6121c6c4-c969-43ae-92f7-cc248fc6181d'),\n",
       " ('Estatística: O que é, para que serve, como funciona',\n",
       "  'R$\\xa052,11',\n",
       "  '4,8 de 5 estrelas',\n",
       "  '927',\n",
       "  'https://www.amazon.com.br/Estat%C3%ADstica-para-serve-como-funciona/dp/8537815128/ref=sr_1_20?keywords=data+science&qid=1649202374&sr=8-20'),\n",
       " ('Sapiens (Nova edição): Uma breve história da humanidade',\n",
       "  'R$\\xa044,90',\n",
       "  '4,8 de 5 estrelas',\n",
       "  '4.272',\n",
       "  'https://www.amazon.com.br/gp/slredirect/picassoRedirect.html/ref=pa_sp_mtf_aps_sr_pg1_1?ie=UTF8&adId=A0507994A78WL72O12EF&url=%2FSapiens-Nova-edi%25C3%25A7%25C3%25A3o-hist%25C3%25B3ria-humanidade%2Fdp%2F8535933921%2Fref%3Dsr_1_21_sspa%3Fkeywords%3Ddata%2Bscience%26qid%3D1649202374%26sr%3D8-21-spons%26psc%3D1&qualifier=1649202374&id=2261315069424878&widgetName=sp_mtf'),\n",
       " ('História do medo no ocidente, 1300-1800',\n",
       "  'R$\\xa023,95',\n",
       "  '4,9 de 5 estrelas',\n",
       "  '242',\n",
       "  'https://www.amazon.com.br/gp/slredirect/picassoRedirect.html/ref=pa_sp_mtf_aps_sr_pg1_1?ie=UTF8&adId=A05159422HX88R01LN3NK&url=%2FHist%25C3%25B3ria-medo-ocidente-1300-1800-Delumeau%2Fdp%2F8535914544%2Fref%3Dsr_1_22_sspa%3Fkeywords%3Ddata%2Bscience%26qid%3D1649202374%26sr%3D8-22-spons%26psc%3D1&qualifier=1649202374&id=2261315069424878&widgetName=sp_mtf'),\n",
       " ('Brasil: uma biografia: Com novo pós-escrito',\n",
       "  'R$\\xa058,90',\n",
       "  '4,8 de 5 estrelas',\n",
       "  '2.526',\n",
       "  'https://www.amazon.com.br/gp/slredirect/picassoRedirect.html/ref=pa_sp_mtf_aps_sr_pg1_1?ie=UTF8&adId=A05157861RZ7XYIRWRSS2&url=%2FBrasil-Uma-Biografia-novo-p%25C3%25B3s-escrito%2Fdp%2F853592566X%2Fref%3Dsr_1_23_sspa%3Fkeywords%3Ddata%2Bscience%26qid%3D1649202374%26sr%3D8-23-spons%26psc%3D1&qualifier=1649202374&id=2261315069424878&widgetName=sp_mtf'),\n",
       " ('A guerra não tem rosto de mulher',\n",
       "  'R$\\xa045,89',\n",
       "  '4,8 de 5 estrelas',\n",
       "  '1.442',\n",
       "  'https://www.amazon.com.br/gp/slredirect/picassoRedirect.html/ref=pa_sp_mtf_aps_sr_pg1_1?ie=UTF8&adId=A05155061XEEZR8F5TOSN&url=%2Fguerra-n%25C3%25A3o-tem-rosto-mulher%2Fdp%2F8535927433%2Fref%3Dsr_1_24_sspa%3Fkeywords%3Ddata%2Bscience%26qid%3D1649202374%26sr%3D8-24-spons%26psc%3D1&qualifier=1649202374&id=2261315069424878&widgetName=sp_mtf'),\n",
       " ('Introdução a Data Science: Algoritmos de Machine Learning e métodos de análise',\n",
       "  'R$\\xa044,91',\n",
       "  '4,7 de 5 estrelas',\n",
       "  '25',\n",
       "  'https://www.amazon.com.br/Introdu%C3%A7%C3%A3o-Data-Science-Algoritmos-Learning-ebook/dp/B085CK5Z9S/ref=sr_1_25?keywords=data+science&qid=1649202374&sr=8-25'),\n",
       " ('Practical Statistics for Data Scientists: 50+ Essential Concepts Using R and Python',\n",
       "  'R$\\xa0271,02',\n",
       "  '4,5 de 5 estrelas',\n",
       "  '281',\n",
       "  'https://www.amazon.com.br/Practical-Statistics-Data-Scientists-2e/dp/149207294X/ref=sr_1_26?keywords=data+science&qid=1649202374&sr=8-26&ufe=app_do%3Aamzn1.fos.4bddec23-2dcf-4403-8597-e1a02442043d'),\n",
       " ('Introdução à ciência de dados',\n",
       "  'R$\\xa068,09',\n",
       "  '4,4 de 5 estrelas',\n",
       "  '97',\n",
       "  'https://www.amazon.com.br/Introdu%C3%A7%C3%A3o-ci%C3%AAncia-dados-Fernando-Amaral/dp/8576089343/ref=sr_1_27?keywords=data+science&qid=1649202374&sr=8-27&ufe=app_do%3Aamzn1.fos.6d798eae-cadf-45de-946a-f477d47705b9'),\n",
       " ('Mãos A Obra: Aprendizado De Máquina Com Scikit-Learn, Keras & TensorFlow: Conceitos, Ferramentas e Técnicas Para a Construção de Sistemas Inteligentes',\n",
       "  'R$\\xa071,91',\n",
       "  '4,7 de 5 estrelas',\n",
       "  '98',\n",
       "  'https://www.amazon.com.br/M%C3%A3os-Obra-Aprendizado-Scikit-Learn-Inteligentes-ebook/dp/B09H13N8FN/ref=sr_1_28?keywords=data+science&qid=1649202374&sr=8-28&ufe=app_do%3Aamzn1.fos.6d798eae-cadf-45de-946a-f477d47705b9'),\n",
       " ('Becoming a Data Head: How to Think, Speak, and Understand Data Science, Statistics, and Machine Learning (English Edition)',\n",
       "  'R$\\xa0188,59',\n",
       "  '4,6 de 5 estrelas',\n",
       "  '47',\n",
       "  'https://www.amazon.com.br/Becoming-Data-Head-Understand-Statistics-ebook/dp/B092TSVZJ8/ref=sr_1_29?keywords=data+science&qid=1649202374&sr=8-29&ufe=app_do%3Aamzn1.fos.e05b01e0-91a7-477e-a514-15a32325a6d6'),\n",
       " ('Storytelling com dados: Um guia sobre visualização de dados para profissionais de negócios',\n",
       "  'R$\\xa060,94',\n",
       "  '4,8 de 5 estrelas',\n",
       "  '2.009',\n",
       "  'https://www.amazon.com.br/Storytelling-com-Dados-Visualiza%C3%A7%C3%A3o-Profissionais/dp/8550804681/ref=sr_1_30?keywords=data+science&qid=1649202374&sr=8-30&ufe=app_do%3Aamzn1.fos.6d798eae-cadf-45de-946a-f477d47705b9'),\n",
       " ('Ace the Data Science Interview: 201 Real Interview Questions Asked By FAANG, Tech Startups, & Wall Street',\n",
       "  'R$\\xa0376,99',\n",
       "  '4,6 de 5 estrelas',\n",
       "  '246',\n",
       "  'https://www.amazon.com.br/Ace-Data-Science-Interview-Questions/dp/0578973839/ref=sr_1_31?keywords=data+science&qid=1649202374&sr=8-31&ufe=app_do%3Aamzn1.fos.25548f35-0de7-44b3-b28e-0f56f3f96147'),\n",
       " ('Data Science na Educação: Presencial, a Distância e Corporativa',\n",
       "  'R$\\xa042,01',\n",
       "  '4,7 de 5 estrelas',\n",
       "  '62',\n",
       "  'https://www.amazon.com.br/Data-Science-Educa%C3%A7%C3%A3o-Presencial-Corporativa/dp/6587958435/ref=sr_1_32?keywords=data+science&qid=1649202374&sr=8-32'),\n",
       " ('Practical Data Science with Python: Learn tools and techniques from hands-on examples to extract insights from data (English Edition)',\n",
       "  'R$\\xa0222,99',\n",
       "  '5,0 de 5 estrelas',\n",
       "  '5',\n",
       "  'https://www.amazon.com.br/Practical-Data-Science-Python-hands-ebook/dp/B09926XYBJ/ref=sr_1_33?keywords=data+science&qid=1649202374&sr=8-33&ufe=app_do%3Aamzn1.fos.25548f35-0de7-44b3-b28e-0f56f3f96147'),\n",
       " ('PYTHON: Learn Coding Programs with Python Programming and Master Data Analysis & Analytics, Data Science and Machine Learning with the Complete Crash Course ... Beginners - 5 Books in 1 (English Edition)',\n",
       "  'R$\\xa00,00',\n",
       "  '3,7 de 5 estrelas',\n",
       "  '57',\n",
       "  'https://www.amazon.com.br/PYTHON-Programs-Programming-Analytics-Beginners-ebook/dp/B08T6FQ64Y/ref=sr_1_34?keywords=data+science&qid=1649202374&sr=8-34&ufe=app_do%3Aamzn1.fos.e05b01e0-91a7-477e-a514-15a32325a6d6'),\n",
       " ('Power BI em 100 Páginas: Aprenda os fundamentos de forma rápida e prática',\n",
       "  'R$\\xa024,95',\n",
       "  '4,1 de 5 estrelas',\n",
       "  '73',\n",
       "  'https://www.amazon.com.br/Power-BI-100-P%C3%A1ginas-fundamentos-ebook/dp/B083V2NGB5/ref=sr_1_35?keywords=data+science&qid=1649202374&sr=8-35'),\n",
       " ('Sem Data Venia: Um Olhar Sobre o Brasil e o Mundo',\n",
       "  'R$\\xa029,90',\n",
       "  '4,7 de 5 estrelas',\n",
       "  '915',\n",
       "  'https://www.amazon.com.br/Sem-Data-Venia-Olhar-Brasil/dp/6587518052/ref=sr_1_36?keywords=data+science&qid=1649202374&sr=8-36'),\n",
       " ('Storytelling with Data: A Data Visualization Guide for Business Professionals (English Edition)',\n",
       "  'R$\\xa0125,80',\n",
       "  '4,6 de 5 estrelas',\n",
       "  '2.273',\n",
       "  'https://www.amazon.com.br/Storytelling-Data-Visualization-Business-Professionals-ebook/dp/B016DHQSM2/ref=sr_1_37?keywords=data+science&qid=1649202374&sr=8-37&ufe=app_do%3Aamzn1.fos.fcd6d665-32ba-4479-9f21-b774e276a678'),\n",
       " ('Designing Data-Intensive Applications: The Big Ideas Behind Reliable, Scalable, and Maintainable Systems',\n",
       "  'R$\\xa0278,82',\n",
       "  '4,7 de 5 estrelas',\n",
       "  '1.995',\n",
       "  'https://www.amazon.com.br/Designing-Data-Intensive-Applications-Martin-Kleppmann/dp/1449373321/ref=sr_1_38?keywords=data+science&qid=1649202374&sr=8-38&ufe=app_do%3Aamzn1.fos.4bddec23-2dcf-4403-8597-e1a02442043d'),\n",
       " ('Building Data Science Solutions with Anaconda: An end-to-end guide for data scientists to solve the toughest data analytical problems with Anaconda (English Edition)',\n",
       "  'R$\\xa0160,79',\n",
       "  '',\n",
       "  '',\n",
       "  'https://www.amazon.com.br/Building-Data-Science-Solutions-Anaconda-ebook/dp/B09X26411W/ref=sr_1_39?keywords=data+science&qid=1649202374&sr=8-39'),\n",
       " ('Data smart: usando Data Science para transformar informação em insight',\n",
       "  'R$\\xa068,90',\n",
       "  '4,3 de 5 estrelas',\n",
       "  '72',\n",
       "  'https://www.amazon.com.br/Smart-Science-Transformar-Informa%C3%A7%C3%A3o-Insight/dp/855080021X/ref=sr_1_40?keywords=data+science&qid=1649202374&sr=8-40&ufe=app_do%3Aamzn1.fos.6d798eae-cadf-45de-946a-f477d47705b9'),\n",
       " ('Data Wise: Guia para o Uso de Evidências na Educação',\n",
       "  'R$\\xa065,99',\n",
       "  '4,7 de 5 estrelas',\n",
       "  '16',\n",
       "  'https://www.amazon.com.br/Data-Wise-Guia-Evid%C3%AAncias-Educa%C3%A7%C3%A3o/dp/6581334081/ref=sr_1_41?keywords=data+science&qid=1649202374&sr=8-41&ufe=app_do%3Aamzn1.fos.6d798eae-cadf-45de-946a-f477d47705b9'),\n",
       " ('The New Data Mining Guide for Beginners: Learn General Concepts of Data Science and Data Mining and How it Can Help Your Organization (English Edition)',\n",
       "  'R$\\xa00,00',\n",
       "  '',\n",
       "  '',\n",
       "  'https://www.amazon.com.br/dp/B09X8DVCLK/ref=sr_1_42?keywords=data+science&qid=1649202374&sr=8-42'),\n",
       " ('Python para data science para leigos: os primeiros passos para o sucesso',\n",
       "  'R$\\xa027,32',\n",
       "  '3,8 de 5 estrelas',\n",
       "  '24',\n",
       "  'https://www.amazon.com.br/Python-para-data-science-leigos/dp/855081587X/ref=sr_1_43?keywords=data+science&qid=1649202374&sr=8-43'),\n",
       " ('Caneca Dev Data Science - B-black',\n",
       "  'R$\\xa059,90',\n",
       "  '',\n",
       "  '',\n",
       "  'https://www.amazon.com.br/Caneca-Dev-Data-Science-B-black/dp/B08K3TV3CC/ref=sr_1_44?keywords=data+science&qid=1649202374&sr=8-44'),\n",
       " ('Data Science on AWS: Implementing End-To-End, Continuous AI and Machine Learning Pipelines',\n",
       "  'R$\\xa0246,31',\n",
       "  '4,4 de 5 estrelas',\n",
       "  '53',\n",
       "  'https://www.amazon.com.br/Data-Science-Aws-End-End/dp/1492079391/ref=sr_1_45?keywords=data+science&qid=1649202374&sr=8-45&ufe=app_do%3Aamzn1.fos.e05b01e0-91a7-477e-a514-15a32325a6d6'),\n",
       " ('Python para análise de dados: Tratamento de dados com Pandas, NumPy e IPython',\n",
       "  'R$\\xa077,90',\n",
       "  '4,8 de 5 estrelas',\n",
       "  '620',\n",
       "  'https://www.amazon.com.br/Python-para-an%C3%A1lise-dados-Tratamento-ebook/dp/B07RCGVWXX/ref=sr_1_46?keywords=data+science&qid=1649202374&sr=8-46&ufe=app_do%3Aamzn1.fos.6d798eae-cadf-45de-946a-f477d47705b9'),\n",
       " ('Better Data Visualizations: A Guide for Scholars, Researchers, and Wonks',\n",
       "  'R$\\xa0195,85',\n",
       "  '4,4 de 5 estrelas',\n",
       "  '104',\n",
       "  'https://www.amazon.com.br/Better-Data-Visualizations-Scholars-Researchers/dp/0231193114/ref=sr_1_47?keywords=data+science&qid=1649202374&sr=8-47&ufe=app_do%3Aamzn1.fos.fcd6d665-32ba-4479-9f21-b774e276a678'),\n",
       " ('Python e Mercado Financeiro: Programação Para Estudantes, Investidores e Analistas',\n",
       "  'R$\\xa089,70',\n",
       "  '4,6 de 5 estrelas',\n",
       "  '104',\n",
       "  'https://www.amazon.com.br/Python-Mercado-Financeiro-Programa%C3%A7%C3%A3o-Investidores/dp/6555062401/ref=sr_1_48?keywords=data+science&qid=1649202374&sr=8-48&ufe=app_do%3Aamzn1.fos.6d798eae-cadf-45de-946a-f477d47705b9'),\n",
       " ('Data Science, GDPR e LGPD: 20 coisas que você precisa fazer para não ser acusado por maus tratos a dados pessoais (1)',\n",
       "  'R$\\xa00,00',\n",
       "  '4,2 de 5 estrelas',\n",
       "  '19',\n",
       "  'https://www.amazon.com.br/Data-Science-GDPR-LGPD-pessoais-ebook/dp/B07Z464D5N/ref=sr_1_49?keywords=data+science&qid=1649202374&sr=8-49'),\n",
       " ('Intro to Python for Computer Science and Data Science: Learning to Program with Ai, Big Data and the Cloud',\n",
       "  'R$\\xa0553,12',\n",
       "  '4,7 de 5 estrelas',\n",
       "  '189',\n",
       "  'https://www.amazon.com.br/Intro-Python-Computer-Science-Data/dp/0135404673/ref=sr_1_50?keywords=data+science&qid=1649202374&sr=8-50&ufe=app_do%3Aamzn1.fos.25548f35-0de7-44b3-b28e-0f56f3f96147'),\n",
       " ('Manual Prático de Data Science',\n",
       "  'R$\\xa00,00',\n",
       "  '4,4 de 5 estrelas',\n",
       "  '28',\n",
       "  'https://www.amazon.com.br/Manual-Pr%C3%A1tico-Science-Mario-Filho-ebook/dp/B08MTMSDRG/ref=sr_1_51?keywords=data+science&qid=1649202374&sr=8-51'),\n",
       " ('Mãos à obra: aprendizado de máquina com Scikit-Learn & TensorFlow',\n",
       "  'R$\\xa069,30',\n",
       "  '4,7 de 5 estrelas',\n",
       "  '269',\n",
       "  'https://www.amazon.com.br/M%C3%A3os-Obra-Aprendizado-Scikit-Learn-TensorFlow/dp/8550803812/ref=sr_1_52?keywords=data+science&qid=1649202374&sr=8-52&ufe=app_do%3Aamzn1.fos.6d798eae-cadf-45de-946a-f477d47705b9'),\n",
       " ('Data-Driven Science and Engineering: Machine Learning, Dynamical Systems, and Control',\n",
       "  'R$\\xa0425,01',\n",
       "  '4,6 de 5 estrelas',\n",
       "  '150',\n",
       "  'https://www.amazon.com.br/Data-Driven-Science-Engineering-Learning-Dynamical/dp/1108422098/ref=sr_1_53?keywords=data+science&qid=1649202374&sr=8-53&ufe=app_do%3Aamzn1.fos.25548f35-0de7-44b3-b28e-0f56f3f96147'),\n",
       " ('Projetos de Ciência de Dados com Python: Abordagem de Estudo de Caso Para a Criação de Projetos de Ciência de Dados Bem-sucedidos Usando Python, Pandas e Scikit-learn',\n",
       "  'R$\\xa070,34',\n",
       "  '4,6 de 5 estrelas',\n",
       "  '49',\n",
       "  'https://www.amazon.com.br/Projetos-Ci%C3%AAncia-Dados-Python-Bem-sucedidos/dp/6586057108/ref=sr_1_54?keywords=data+science&qid=1649202374&sr=8-54&ufe=app_do%3Aamzn1.fos.6d798eae-cadf-45de-946a-f477d47705b9'),\n",
       " ('Python Para Data Science Para Leigos',\n",
       "  'R$\\xa067,54',\n",
       "  '4,7 de 5 estrelas',\n",
       "  '12',\n",
       "  'https://www.amazon.com.br/Python-Para-Data-Science-Leigos-ebook/dp/B086WNHJPD/ref=sr_1_55?keywords=data+science&qid=1649202374&sr=8-55&ufe=app_do%3Aamzn1.fos.6d798eae-cadf-45de-946a-f477d47705b9'),\n",
       " ('Introduction to Probability for Data Science',\n",
       "  'R$\\xa0718,53',\n",
       "  '5,0 de 5 estrelas',\n",
       "  '4',\n",
       "  'https://www.amazon.com.br/Introduction-Probability-Data-Science-Stanley/dp/1607857464/ref=sr_1_56?keywords=data+science&qid=1649202374&sr=8-56&ufe=app_do%3Aamzn1.fos.25548f35-0de7-44b3-b28e-0f56f3f96147')]"
      ]
     },
     "execution_count": 86,
     "metadata": {},
     "output_type": "execute_result"
    }
   ],
   "source": [
    "records"
   ]
  },
  {
   "cell_type": "code",
   "execution_count": null,
   "metadata": {},
   "outputs": [],
   "source": [
    "def get_url(search_term):\n",
    "    template = \"https://www.amazon.com.br/s?k={}\"\n",
    "    search_term = search_term.replace(' ', '+')\n",
    "\n",
    "    url = template.format(search_term)\n",
    "\n",
    "    url += '&page{}'\n",
    "    return url"
   ]
  },
  {
   "cell_type": "code",
   "execution_count": 89,
   "metadata": {},
   "outputs": [],
   "source": [
    "import csv\n",
    "from bs4 import BeautifulSoup\n",
    "from selenium import webdriver\n",
    "from webdriver_manager.chrome import ChromeDriverManager\n",
    "\n",
    "def get_url(search_term):\n",
    "    template = \"https://www.amazon.com.br/s?k={}\"\n",
    "    search_term = search_term.replace(' ', '+')\n",
    "\n",
    "    url = template.format(search_term)\n",
    "\n",
    "    url += '&page{}'\n",
    "    return url\n",
    "\n",
    "def extract_record(item):\n",
    "    atag = item.h2.a\n",
    "    description  = atag.text.strip()\n",
    "    url = 'https://www.amazon.com.br' + atag.get('href')\n",
    "\n",
    "\n",
    "    try: \n",
    "        price_parent = item.find('span', 'a-price')\n",
    "        price = price_parent.find('span', 'a-offscreen').text\n",
    "\n",
    "    except AttributeError:\n",
    "        return \n",
    "\n",
    "    try:\n",
    "        rating = item.i.text\n",
    "        review_count = item.find('span', 'a-size-base s-underline-text').text\n",
    "    except AttributeError:\n",
    "        rating = ''\n",
    "        review_count = ''\n",
    "\n",
    "    result = (description, price, rating, review_count, url)\n",
    "\n",
    "    return result\n",
    "\n",
    "def main(search_term):\n",
    "    driver = webdriver.Chrome(ChromeDriverManager().install())\n",
    "\n",
    "\n",
    "    record = []\n",
    "    url = get_url(search_term)\n",
    "\n",
    "    for page in (1, 8):\n",
    "        driver.get(url.format(page))\n",
    "        soup = BeautifulSoup(driver.page_source, 'html.parser') \n",
    "        results = soup.find_all('div', {'data-component-type': 's-search-result'})\n",
    "\n",
    "        for item in results:\n",
    "            record = extract_record(item)\n",
    "            if record:\n",
    "                records.append(record)\n",
    "\n",
    "    driver.close()\n",
    "\n",
    "    with open('results.csv', 'w', newline= '', encoding= 'utf-8' ) as f:\n",
    "        writer = csv.writer(f, delimiter = ';')\n",
    "        writer.writerow(['Description', 'Price', 'Rating', 'ReviewCount', 'Url'])\n",
    "        writer.writerows(records)\n",
    "\n",
    "\n",
    "\n",
    "\n"
   ]
  },
  {
   "cell_type": "code",
   "execution_count": 90,
   "metadata": {},
   "outputs": [
    {
     "name": "stderr",
     "output_type": "stream",
     "text": [
      "\n",
      "\n",
      "====== WebDriver manager ======\n",
      "Current google-chrome version is 100.0.4896\n",
      "Get LATEST chromedriver version for 100.0.4896 google-chrome\n",
      "Driver [/Users/brunoozaki/.wdm/drivers/chromedriver/mac64/100.0.4896.60/chromedriver] found in cache\n",
      "/opt/anaconda3/lib/python3.7/site-packages/ipykernel_launcher.py:40: DeprecationWarning: executable_path has been deprecated, please pass in a Service object\n"
     ]
    },
    {
     "ename": "TypeError",
     "evalue": "'enconding' is an invalid keyword argument for open()",
     "output_type": "error",
     "traceback": [
      "\u001b[0;31m---------------------------------------------------------------------------\u001b[0m",
      "\u001b[0;31mTypeError\u001b[0m                                 Traceback (most recent call last)",
      "\u001b[0;32m/var/folders/5t/_w7psydd57x35zfv5gw37glw0000gn/T/ipykernel_46439/1927591856.py\u001b[0m in \u001b[0;36m<module>\u001b[0;34m\u001b[0m\n\u001b[0;32m----> 1\u001b[0;31m \u001b[0mmain\u001b[0m\u001b[0;34m(\u001b[0m\u001b[0;34m'data science'\u001b[0m\u001b[0;34m)\u001b[0m\u001b[0;34m\u001b[0m\u001b[0;34m\u001b[0m\u001b[0m\n\u001b[0m",
      "\u001b[0;32m/var/folders/5t/_w7psydd57x35zfv5gw37glw0000gn/T/ipykernel_46439/1628217985.py\u001b[0m in \u001b[0;36mmain\u001b[0;34m(search_term)\u001b[0m\n\u001b[1;32m     56\u001b[0m     \u001b[0mdriver\u001b[0m\u001b[0;34m.\u001b[0m\u001b[0mclose\u001b[0m\u001b[0;34m(\u001b[0m\u001b[0;34m)\u001b[0m\u001b[0;34m\u001b[0m\u001b[0;34m\u001b[0m\u001b[0m\n\u001b[1;32m     57\u001b[0m \u001b[0;34m\u001b[0m\u001b[0m\n\u001b[0;32m---> 58\u001b[0;31m     \u001b[0;32mwith\u001b[0m \u001b[0mopen\u001b[0m\u001b[0;34m(\u001b[0m\u001b[0;34m'results.csv'\u001b[0m\u001b[0;34m,\u001b[0m \u001b[0;34m'w'\u001b[0m\u001b[0;34m,\u001b[0m \u001b[0mnewline\u001b[0m\u001b[0;34m=\u001b[0m \u001b[0;34m''\u001b[0m\u001b[0;34m,\u001b[0m \u001b[0menconding\u001b[0m\u001b[0;34m=\u001b[0m \u001b[0;34m'utf-8'\u001b[0m \u001b[0;34m)\u001b[0m \u001b[0;32mas\u001b[0m \u001b[0mf\u001b[0m\u001b[0;34m:\u001b[0m\u001b[0;34m\u001b[0m\u001b[0;34m\u001b[0m\u001b[0m\n\u001b[0m\u001b[1;32m     59\u001b[0m         \u001b[0mwriter\u001b[0m \u001b[0;34m=\u001b[0m \u001b[0mcsv\u001b[0m\u001b[0;34m.\u001b[0m\u001b[0mwriter\u001b[0m\u001b[0;34m(\u001b[0m\u001b[0mf\u001b[0m\u001b[0;34m)\u001b[0m\u001b[0;34m\u001b[0m\u001b[0;34m\u001b[0m\u001b[0m\n\u001b[1;32m     60\u001b[0m         \u001b[0mwriter\u001b[0m\u001b[0;34m.\u001b[0m\u001b[0mwriterow\u001b[0m\u001b[0;34m(\u001b[0m\u001b[0;34m[\u001b[0m\u001b[0;34m'Description'\u001b[0m\u001b[0;34m,\u001b[0m \u001b[0;34m'Price'\u001b[0m\u001b[0;34m,\u001b[0m \u001b[0;34m'Rating'\u001b[0m\u001b[0;34m,\u001b[0m \u001b[0;34m'ReviewCount'\u001b[0m\u001b[0;34m,\u001b[0m \u001b[0;34m'Url'\u001b[0m\u001b[0;34m]\u001b[0m\u001b[0;34m)\u001b[0m\u001b[0;34m\u001b[0m\u001b[0;34m\u001b[0m\u001b[0m\n",
      "\u001b[0;31mTypeError\u001b[0m: 'enconding' is an invalid keyword argument for open()"
     ]
    }
   ],
   "source": [
    "main('data science')"
   ]
  },
  {
   "cell_type": "code",
   "execution_count": null,
   "metadata": {},
   "outputs": [],
   "source": []
  }
 ],
 "metadata": {
  "interpreter": {
   "hash": "dca0ade3e726a953b501b15e8e990130d2b7799f14cfd9f4271676035ebe5511"
  },
  "kernelspec": {
   "display_name": "Python 3.7.7 64-bit ('base': conda)",
   "name": "python3"
  },
  "language_info": {
   "codemirror_mode": {
    "name": "ipython",
    "version": 3
   },
   "file_extension": ".py",
   "mimetype": "text/x-python",
   "name": "python",
   "nbconvert_exporter": "python",
   "pygments_lexer": "ipython3",
   "version": "3.7.7"
  },
  "orig_nbformat": 4
 },
 "nbformat": 4,
 "nbformat_minor": 2
}
