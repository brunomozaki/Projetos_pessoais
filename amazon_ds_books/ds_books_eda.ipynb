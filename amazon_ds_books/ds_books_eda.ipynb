{
 "cells": [
  {
   "cell_type": "markdown",
   "metadata": {},
   "source": [
    "## EDA for data books"
   ]
  },
  {
   "cell_type": "markdown",
   "metadata": {},
   "source": [
    "This project was idealized because of my great passion of buying data science books. Let's see if we can find some insights from the data we collected from the amazon.com.br site"
   ]
  },
  {
   "cell_type": "code",
   "execution_count": 2,
   "metadata": {},
   "outputs": [],
   "source": [
    "from pathlib import Path\n",
    "from dotenv import load_dotenv\n",
    "import psycopg2\n",
    "import os\n",
    "import pandas as pd\n",
    "import matplotlib.pyplot as plt\n",
    "import seaborn as sns\n",
    "import numpy as np"
   ]
  },
  {
   "cell_type": "code",
   "execution_count": 37,
   "metadata": {},
   "outputs": [
    {
     "data": {
      "text/plain": [
       "True"
      ]
     },
     "execution_count": 37,
     "metadata": {},
     "output_type": "execute_result"
    }
   ],
   "source": [
    "env_path = Path('amazon_ds_books/.env')        # Reads from .env file so that the token doesnt need to be written on the script\n",
    "load_dotenv(dotenv_path= env_path)"
   ]
  },
  {
   "cell_type": "code",
   "execution_count": 38,
   "metadata": {},
   "outputs": [],
   "source": [
    "conn = psycopg2.connect(database=\"amazon_ds\",\n",
    "                        user= os.environ['POST_USER'], password=  os.environ['POST_PASS'],\n",
    "                        host='localhost', port='5432'\n",
    ")"
   ]
  },
  {
   "cell_type": "code",
   "execution_count": 39,
   "metadata": {},
   "outputs": [],
   "source": [
    "query = '''\n",
    "SELECT * FROM DS_BOOKS_MODEL\n",
    "'''"
   ]
  },
  {
   "cell_type": "code",
   "execution_count": 40,
   "metadata": {},
   "outputs": [],
   "source": [
    "df = pd.read_sql(query, conn)"
   ]
  },
  {
   "cell_type": "code",
   "execution_count": 41,
   "metadata": {},
   "outputs": [
    {
     "data": {
      "text/html": [
       "<div>\n",
       "<style scoped>\n",
       "    .dataframe tbody tr th:only-of-type {\n",
       "        vertical-align: middle;\n",
       "    }\n",
       "\n",
       "    .dataframe tbody tr th {\n",
       "        vertical-align: top;\n",
       "    }\n",
       "\n",
       "    .dataframe thead th {\n",
       "        text-align: right;\n",
       "    }\n",
       "</style>\n",
       "<table border=\"1\" class=\"dataframe\">\n",
       "  <thead>\n",
       "    <tr style=\"text-align: right;\">\n",
       "      <th></th>\n",
       "      <th>description</th>\n",
       "      <th>price</th>\n",
       "      <th>rating</th>\n",
       "      <th>review_count</th>\n",
       "      <th>url</th>\n",
       "      <th>popularity</th>\n",
       "      <th>rating_num</th>\n",
       "      <th>price_num</th>\n",
       "    </tr>\n",
       "  </thead>\n",
       "  <tbody>\n",
       "    <tr>\n",
       "      <th>0</th>\n",
       "      <td>Data science para negócios: O que você precisa...</td>\n",
       "      <td>R$ 62,90</td>\n",
       "      <td>4,7 de 5 estrelas</td>\n",
       "      <td>6570</td>\n",
       "      <td>https://www.amazon.com.br/Data-Science-para-ne...</td>\n",
       "      <td>POPULAR</td>\n",
       "      <td>4.7</td>\n",
       "      <td>62.90</td>\n",
       "    </tr>\n",
       "    <tr>\n",
       "      <th>1</th>\n",
       "      <td>Data Science Do Zero: Noções Fundamentais com ...</td>\n",
       "      <td>R$ 59,90</td>\n",
       "      <td>4,7 de 5 estrelas</td>\n",
       "      <td>1310</td>\n",
       "      <td>https://www.amazon.com.br/Data-Science-Do-Zero...</td>\n",
       "      <td>POPULAR</td>\n",
       "      <td>4.7</td>\n",
       "      <td>59.90</td>\n",
       "    </tr>\n",
       "    <tr>\n",
       "      <th>2</th>\n",
       "      <td>Data Science from Scratch: First Principles wi...</td>\n",
       "      <td>R$ 254,24</td>\n",
       "      <td>4,4 de 5 estrelas</td>\n",
       "      <td>4370</td>\n",
       "      <td>https://www.amazon.com.br/Data-Science-Scratch...</td>\n",
       "      <td>POPULAR</td>\n",
       "      <td>4.4</td>\n",
       "      <td>254.24</td>\n",
       "    </tr>\n",
       "    <tr>\n",
       "      <th>3</th>\n",
       "      <td>Data Science for Business: What You Need to Kn...</td>\n",
       "      <td>R$ 261,85</td>\n",
       "      <td>4,5 de 5 estrelas</td>\n",
       "      <td>7160</td>\n",
       "      <td>https://www.amazon.com.br/Data-Science-Busines...</td>\n",
       "      <td>POPULAR</td>\n",
       "      <td>4.5</td>\n",
       "      <td>261.85</td>\n",
       "    </tr>\n",
       "    <tr>\n",
       "      <th>4</th>\n",
       "      <td>Data Science do Zero: Primeiras Regras com o P...</td>\n",
       "      <td>R$ 56,61</td>\n",
       "      <td>4,5 de 5 estrelas</td>\n",
       "      <td>6400</td>\n",
       "      <td>https://www.amazon.com.br/Data-Science-Zero-Pr...</td>\n",
       "      <td>POPULAR</td>\n",
       "      <td>4.5</td>\n",
       "      <td>56.61</td>\n",
       "    </tr>\n",
       "    <tr>\n",
       "      <th>...</th>\n",
       "      <td>...</td>\n",
       "      <td>...</td>\n",
       "      <td>...</td>\n",
       "      <td>...</td>\n",
       "      <td>...</td>\n",
       "      <td>...</td>\n",
       "      <td>...</td>\n",
       "      <td>...</td>\n",
       "    </tr>\n",
       "    <tr>\n",
       "      <th>1037</th>\n",
       "      <td>Better Data Visualizations: A Guide for Schola...</td>\n",
       "      <td>R$ 126,29</td>\n",
       "      <td>4,3 de 5 estrelas</td>\n",
       "      <td>1070</td>\n",
       "      <td>https://www.amazon.com.br/Better-Data-Visualiz...</td>\n",
       "      <td>POPULAR</td>\n",
       "      <td>4.3</td>\n",
       "      <td>126.29</td>\n",
       "    </tr>\n",
       "    <tr>\n",
       "      <th>1038</th>\n",
       "      <td>Data Wise: Guia para o Uso de Evidências na Ed...</td>\n",
       "      <td>R$ 65,99</td>\n",
       "      <td>4,6 de 5 estrelas</td>\n",
       "      <td>160</td>\n",
       "      <td>https://www.amazon.com.br/Data-Wise-Guia-Evid%...</td>\n",
       "      <td>NOT POPULAR</td>\n",
       "      <td>4.6</td>\n",
       "      <td>65.99</td>\n",
       "    </tr>\n",
       "    <tr>\n",
       "      <th>1039</th>\n",
       "      <td>R for Data Science: Import, Tidy, Transform, V...</td>\n",
       "      <td>R$ 228,57</td>\n",
       "      <td>4,7 de 5 estrelas</td>\n",
       "      <td>1075</td>\n",
       "      <td>https://www.amazon.com.br/R-Data-Science-Garre...</td>\n",
       "      <td>POPULAR</td>\n",
       "      <td>4.7</td>\n",
       "      <td>228.57</td>\n",
       "    </tr>\n",
       "    <tr>\n",
       "      <th>1040</th>\n",
       "      <td>PYTHON: Learn Coding Programs with Python Prog...</td>\n",
       "      <td>R$ 0,00</td>\n",
       "      <td>3,8 de 5 estrelas</td>\n",
       "      <td>590</td>\n",
       "      <td>https://www.amazon.com.br/PYTHON-Programs-Prog...</td>\n",
       "      <td>POPULAR</td>\n",
       "      <td>3.8</td>\n",
       "      <td>0.00</td>\n",
       "    </tr>\n",
       "    <tr>\n",
       "      <th>1041</th>\n",
       "      <td>Mãos à obra: aprendizado de máquina com Scikit...</td>\n",
       "      <td>R$ 69,30</td>\n",
       "      <td>4,7 de 5 estrelas</td>\n",
       "      <td>2760</td>\n",
       "      <td>https://www.amazon.com.br/M%C3%A3os-Obra-Apren...</td>\n",
       "      <td>POPULAR</td>\n",
       "      <td>4.7</td>\n",
       "      <td>69.30</td>\n",
       "    </tr>\n",
       "  </tbody>\n",
       "</table>\n",
       "<p>1042 rows × 8 columns</p>\n",
       "</div>"
      ],
      "text/plain": [
       "                                            description      price  \\\n",
       "0     Data science para negócios: O que você precisa...   R$ 62,90   \n",
       "1     Data Science Do Zero: Noções Fundamentais com ...   R$ 59,90   \n",
       "2     Data Science from Scratch: First Principles wi...  R$ 254,24   \n",
       "3     Data Science for Business: What You Need to Kn...  R$ 261,85   \n",
       "4     Data Science do Zero: Primeiras Regras com o P...   R$ 56,61   \n",
       "...                                                 ...        ...   \n",
       "1037  Better Data Visualizations: A Guide for Schola...  R$ 126,29   \n",
       "1038  Data Wise: Guia para o Uso de Evidências na Ed...   R$ 65,99   \n",
       "1039  R for Data Science: Import, Tidy, Transform, V...  R$ 228,57   \n",
       "1040  PYTHON: Learn Coding Programs with Python Prog...    R$ 0,00   \n",
       "1041  Mãos à obra: aprendizado de máquina com Scikit...   R$ 69,30   \n",
       "\n",
       "                 rating  review_count  \\\n",
       "0     4,7 de 5 estrelas          6570   \n",
       "1     4,7 de 5 estrelas          1310   \n",
       "2     4,4 de 5 estrelas          4370   \n",
       "3     4,5 de 5 estrelas          7160   \n",
       "4     4,5 de 5 estrelas          6400   \n",
       "...                 ...           ...   \n",
       "1037  4,3 de 5 estrelas          1070   \n",
       "1038  4,6 de 5 estrelas           160   \n",
       "1039  4,7 de 5 estrelas          1075   \n",
       "1040  3,8 de 5 estrelas           590   \n",
       "1041  4,7 de 5 estrelas          2760   \n",
       "\n",
       "                                                    url   popularity  \\\n",
       "0     https://www.amazon.com.br/Data-Science-para-ne...      POPULAR   \n",
       "1     https://www.amazon.com.br/Data-Science-Do-Zero...      POPULAR   \n",
       "2     https://www.amazon.com.br/Data-Science-Scratch...      POPULAR   \n",
       "3     https://www.amazon.com.br/Data-Science-Busines...      POPULAR   \n",
       "4     https://www.amazon.com.br/Data-Science-Zero-Pr...      POPULAR   \n",
       "...                                                 ...          ...   \n",
       "1037  https://www.amazon.com.br/Better-Data-Visualiz...      POPULAR   \n",
       "1038  https://www.amazon.com.br/Data-Wise-Guia-Evid%...  NOT POPULAR   \n",
       "1039  https://www.amazon.com.br/R-Data-Science-Garre...      POPULAR   \n",
       "1040  https://www.amazon.com.br/PYTHON-Programs-Prog...      POPULAR   \n",
       "1041  https://www.amazon.com.br/M%C3%A3os-Obra-Apren...      POPULAR   \n",
       "\n",
       "      rating_num  price_num  \n",
       "0            4.7      62.90  \n",
       "1            4.7      59.90  \n",
       "2            4.4     254.24  \n",
       "3            4.5     261.85  \n",
       "4            4.5      56.61  \n",
       "...          ...        ...  \n",
       "1037         4.3     126.29  \n",
       "1038         4.6      65.99  \n",
       "1039         4.7     228.57  \n",
       "1040         3.8       0.00  \n",
       "1041         4.7      69.30  \n",
       "\n",
       "[1042 rows x 8 columns]"
      ]
     },
     "execution_count": 41,
     "metadata": {},
     "output_type": "execute_result"
    }
   ],
   "source": [
    "df"
   ]
  },
  {
   "cell_type": "code",
   "execution_count": 42,
   "metadata": {},
   "outputs": [
    {
     "data": {
      "text/html": [
       "<div>\n",
       "<style scoped>\n",
       "    .dataframe tbody tr th:only-of-type {\n",
       "        vertical-align: middle;\n",
       "    }\n",
       "\n",
       "    .dataframe tbody tr th {\n",
       "        vertical-align: top;\n",
       "    }\n",
       "\n",
       "    .dataframe thead th {\n",
       "        text-align: right;\n",
       "    }\n",
       "</style>\n",
       "<table border=\"1\" class=\"dataframe\">\n",
       "  <thead>\n",
       "    <tr style=\"text-align: right;\">\n",
       "      <th></th>\n",
       "      <th>description</th>\n",
       "      <th>price</th>\n",
       "      <th>rating</th>\n",
       "      <th>review_count</th>\n",
       "      <th>url</th>\n",
       "      <th>popularity</th>\n",
       "      <th>rating_num</th>\n",
       "      <th>price_num</th>\n",
       "    </tr>\n",
       "  </thead>\n",
       "  <tbody>\n",
       "    <tr>\n",
       "      <th>0</th>\n",
       "      <td>Data science para negócios: O que você precisa...</td>\n",
       "      <td>R$ 62,90</td>\n",
       "      <td>4,7 de 5 estrelas</td>\n",
       "      <td>6570</td>\n",
       "      <td>https://www.amazon.com.br/Data-Science-para-ne...</td>\n",
       "      <td>POPULAR</td>\n",
       "      <td>4.7</td>\n",
       "      <td>62.90</td>\n",
       "    </tr>\n",
       "    <tr>\n",
       "      <th>1</th>\n",
       "      <td>Data Science Do Zero: Noções Fundamentais com ...</td>\n",
       "      <td>R$ 59,90</td>\n",
       "      <td>4,7 de 5 estrelas</td>\n",
       "      <td>1310</td>\n",
       "      <td>https://www.amazon.com.br/Data-Science-Do-Zero...</td>\n",
       "      <td>POPULAR</td>\n",
       "      <td>4.7</td>\n",
       "      <td>59.90</td>\n",
       "    </tr>\n",
       "    <tr>\n",
       "      <th>2</th>\n",
       "      <td>Data Science from Scratch: First Principles wi...</td>\n",
       "      <td>R$ 254,24</td>\n",
       "      <td>4,4 de 5 estrelas</td>\n",
       "      <td>4370</td>\n",
       "      <td>https://www.amazon.com.br/Data-Science-Scratch...</td>\n",
       "      <td>POPULAR</td>\n",
       "      <td>4.4</td>\n",
       "      <td>254.24</td>\n",
       "    </tr>\n",
       "    <tr>\n",
       "      <th>3</th>\n",
       "      <td>Data Science for Business: What You Need to Kn...</td>\n",
       "      <td>R$ 261,85</td>\n",
       "      <td>4,5 de 5 estrelas</td>\n",
       "      <td>7160</td>\n",
       "      <td>https://www.amazon.com.br/Data-Science-Busines...</td>\n",
       "      <td>POPULAR</td>\n",
       "      <td>4.5</td>\n",
       "      <td>261.85</td>\n",
       "    </tr>\n",
       "    <tr>\n",
       "      <th>4</th>\n",
       "      <td>Data Science do Zero: Primeiras Regras com o P...</td>\n",
       "      <td>R$ 56,61</td>\n",
       "      <td>4,5 de 5 estrelas</td>\n",
       "      <td>6400</td>\n",
       "      <td>https://www.amazon.com.br/Data-Science-Zero-Pr...</td>\n",
       "      <td>POPULAR</td>\n",
       "      <td>4.5</td>\n",
       "      <td>56.61</td>\n",
       "    </tr>\n",
       "  </tbody>\n",
       "</table>\n",
       "</div>"
      ],
      "text/plain": [
       "                                         description      price  \\\n",
       "0  Data science para negócios: O que você precisa...   R$ 62,90   \n",
       "1  Data Science Do Zero: Noções Fundamentais com ...   R$ 59,90   \n",
       "2  Data Science from Scratch: First Principles wi...  R$ 254,24   \n",
       "3  Data Science for Business: What You Need to Kn...  R$ 261,85   \n",
       "4  Data Science do Zero: Primeiras Regras com o P...   R$ 56,61   \n",
       "\n",
       "              rating  review_count  \\\n",
       "0  4,7 de 5 estrelas          6570   \n",
       "1  4,7 de 5 estrelas          1310   \n",
       "2  4,4 de 5 estrelas          4370   \n",
       "3  4,5 de 5 estrelas          7160   \n",
       "4  4,5 de 5 estrelas          6400   \n",
       "\n",
       "                                                 url popularity  rating_num  \\\n",
       "0  https://www.amazon.com.br/Data-Science-para-ne...    POPULAR         4.7   \n",
       "1  https://www.amazon.com.br/Data-Science-Do-Zero...    POPULAR         4.7   \n",
       "2  https://www.amazon.com.br/Data-Science-Scratch...    POPULAR         4.4   \n",
       "3  https://www.amazon.com.br/Data-Science-Busines...    POPULAR         4.5   \n",
       "4  https://www.amazon.com.br/Data-Science-Zero-Pr...    POPULAR         4.5   \n",
       "\n",
       "   price_num  \n",
       "0      62.90  \n",
       "1      59.90  \n",
       "2     254.24  \n",
       "3     261.85  \n",
       "4      56.61  "
      ]
     },
     "execution_count": 42,
     "metadata": {},
     "output_type": "execute_result"
    }
   ],
   "source": [
    "df.head()"
   ]
  },
  {
   "cell_type": "code",
   "execution_count": 43,
   "metadata": {},
   "outputs": [
    {
     "data": {
      "text/html": [
       "<div>\n",
       "<style scoped>\n",
       "    .dataframe tbody tr th:only-of-type {\n",
       "        vertical-align: middle;\n",
       "    }\n",
       "\n",
       "    .dataframe tbody tr th {\n",
       "        vertical-align: top;\n",
       "    }\n",
       "\n",
       "    .dataframe thead th {\n",
       "        text-align: right;\n",
       "    }\n",
       "</style>\n",
       "<table border=\"1\" class=\"dataframe\">\n",
       "  <thead>\n",
       "    <tr style=\"text-align: right;\">\n",
       "      <th></th>\n",
       "      <th>review_count</th>\n",
       "      <th>rating_num</th>\n",
       "      <th>price_num</th>\n",
       "    </tr>\n",
       "  </thead>\n",
       "  <tbody>\n",
       "    <tr>\n",
       "      <th>count</th>\n",
       "      <td>1042.000000</td>\n",
       "      <td>1042.000000</td>\n",
       "      <td>1042.000000</td>\n",
       "    </tr>\n",
       "    <tr>\n",
       "      <th>mean</th>\n",
       "      <td>2518.863724</td>\n",
       "      <td>4.583493</td>\n",
       "      <td>117.824779</td>\n",
       "    </tr>\n",
       "    <tr>\n",
       "      <th>std</th>\n",
       "      <td>2412.293459</td>\n",
       "      <td>0.248871</td>\n",
       "      <td>113.285278</td>\n",
       "    </tr>\n",
       "    <tr>\n",
       "      <th>min</th>\n",
       "      <td>10.000000</td>\n",
       "      <td>3.700000</td>\n",
       "      <td>0.000000</td>\n",
       "    </tr>\n",
       "    <tr>\n",
       "      <th>25%</th>\n",
       "      <td>620.000000</td>\n",
       "      <td>4.500000</td>\n",
       "      <td>56.610000</td>\n",
       "    </tr>\n",
       "    <tr>\n",
       "      <th>50%</th>\n",
       "      <td>1890.000000</td>\n",
       "      <td>4.600000</td>\n",
       "      <td>69.300000</td>\n",
       "    </tr>\n",
       "    <tr>\n",
       "      <th>75%</th>\n",
       "      <td>3060.000000</td>\n",
       "      <td>4.700000</td>\n",
       "      <td>186.260000</td>\n",
       "    </tr>\n",
       "    <tr>\n",
       "      <th>max</th>\n",
       "      <td>9410.000000</td>\n",
       "      <td>5.000000</td>\n",
       "      <td>718.530000</td>\n",
       "    </tr>\n",
       "  </tbody>\n",
       "</table>\n",
       "</div>"
      ],
      "text/plain": [
       "       review_count   rating_num    price_num\n",
       "count   1042.000000  1042.000000  1042.000000\n",
       "mean    2518.863724     4.583493   117.824779\n",
       "std     2412.293459     0.248871   113.285278\n",
       "min       10.000000     3.700000     0.000000\n",
       "25%      620.000000     4.500000    56.610000\n",
       "50%     1890.000000     4.600000    69.300000\n",
       "75%     3060.000000     4.700000   186.260000\n",
       "max     9410.000000     5.000000   718.530000"
      ]
     },
     "execution_count": 43,
     "metadata": {},
     "output_type": "execute_result"
    }
   ],
   "source": [
    "df.describe()"
   ]
  },
  {
   "cell_type": "code",
   "execution_count": 44,
   "metadata": {},
   "outputs": [
    {
     "data": {
      "text/plain": [
       "<AxesSubplot:>"
      ]
     },
     "execution_count": 44,
     "metadata": {},
     "output_type": "execute_result"
    },
    {
     "data": {
      "image/png": "[encoded data removed]",
      "text/plain": [
       "<Figure size 648x360 with 2 Axes>"
      ]
     },
     "metadata": {
      "needs_background": "light"
     },
     "output_type": "display_data"
    }
   ],
   "source": [
    "plt.figure(figsize= (9,5))\n",
    "sns.heatmap(df.corr(), annot=True)"
   ]
  },
  {
   "cell_type": "code",
   "execution_count": 45,
   "metadata": {},
   "outputs": [
    {
     "data": {
      "image/png": "[encoded data removed]",
      "text/plain": [
       "<Figure size 720x576 with 4 Axes>"
      ]
     },
     "metadata": {
      "needs_background": "light"
     },
     "output_type": "display_data"
    }
   ],
   "source": [
    "df.hist(bins=50, figsize=(10,8)) \n",
    "plt.show()"
   ]
  },
  {
   "cell_type": "code",
   "execution_count": 46,
   "metadata": {},
   "outputs": [
    {
     "data": {
      "text/plain": [
       "<seaborn.axisgrid.PairGrid at 0x7f9ba8959310>"
      ]
     },
     "execution_count": 46,
     "metadata": {},
     "output_type": "execute_result"
    },
    {
     "data": {
      "image/png": "[encoded data removed]",
      "text/plain": [
       "<Figure size 540x540 with 12 Axes>"
      ]
     },
     "metadata": {
      "needs_background": "light"
     },
     "output_type": "display_data"
    }
   ],
   "source": [
    "sns.pairplot(data=df)"
   ]
  },
  {
   "cell_type": "code",
   "execution_count": 47,
   "metadata": {},
   "outputs": [
    {
     "data": {
      "text/html": [
       "<div>\n",
       "<style scoped>\n",
       "    .dataframe tbody tr th:only-of-type {\n",
       "        vertical-align: middle;\n",
       "    }\n",
       "\n",
       "    .dataframe tbody tr th {\n",
       "        vertical-align: top;\n",
       "    }\n",
       "\n",
       "    .dataframe thead th {\n",
       "        text-align: right;\n",
       "    }\n",
       "</style>\n",
       "<table border=\"1\" class=\"dataframe\">\n",
       "  <thead>\n",
       "    <tr style=\"text-align: right;\">\n",
       "      <th></th>\n",
       "      <th>description</th>\n",
       "      <th>price</th>\n",
       "      <th>rating</th>\n",
       "      <th>review_count</th>\n",
       "      <th>url</th>\n",
       "      <th>popularity</th>\n",
       "      <th>rating_num</th>\n",
       "      <th>price_num</th>\n",
       "    </tr>\n",
       "  </thead>\n",
       "  <tbody>\n",
       "    <tr>\n",
       "      <th>48</th>\n",
       "      <td>Introduction to Probability for Data Science</td>\n",
       "      <td>R$ 718,53</td>\n",
       "      <td>5,0 de 5 estrelas</td>\n",
       "      <td>40</td>\n",
       "      <td>https://www.amazon.com.br/Introduction-Probabi...</td>\n",
       "      <td>NOT POPULAR</td>\n",
       "      <td>5.0</td>\n",
       "      <td>718.53</td>\n",
       "    </tr>\n",
       "  </tbody>\n",
       "</table>\n",
       "</div>"
      ],
      "text/plain": [
       "                                     description      price  \\\n",
       "48  Introduction to Probability for Data Science  R$ 718,53   \n",
       "\n",
       "               rating  review_count  \\\n",
       "48  5,0 de 5 estrelas            40   \n",
       "\n",
       "                                                  url   popularity  \\\n",
       "48  https://www.amazon.com.br/Introduction-Probabi...  NOT POPULAR   \n",
       "\n",
       "    rating_num  price_num  \n",
       "48         5.0     718.53  "
      ]
     },
     "execution_count": 47,
     "metadata": {},
     "output_type": "execute_result"
    }
   ],
   "source": [
    "df[df['price_num']==df['price_num'].max()].head(1)"
   ]
  },
  {
   "cell_type": "code",
   "execution_count": 48,
   "metadata": {},
   "outputs": [
    {
     "data": {
      "text/html": [
       "<div>\n",
       "<style scoped>\n",
       "    .dataframe tbody tr th:only-of-type {\n",
       "        vertical-align: middle;\n",
       "    }\n",
       "\n",
       "    .dataframe tbody tr th {\n",
       "        vertical-align: top;\n",
       "    }\n",
       "\n",
       "    .dataframe thead th {\n",
       "        text-align: right;\n",
       "    }\n",
       "</style>\n",
       "<table border=\"1\" class=\"dataframe\">\n",
       "  <thead>\n",
       "    <tr style=\"text-align: right;\">\n",
       "      <th></th>\n",
       "      <th>description</th>\n",
       "      <th>price</th>\n",
       "      <th>rating</th>\n",
       "      <th>review_count</th>\n",
       "      <th>url</th>\n",
       "      <th>popularity</th>\n",
       "      <th>rating_num</th>\n",
       "      <th>price_num</th>\n",
       "    </tr>\n",
       "  </thead>\n",
       "  <tbody>\n",
       "    <tr>\n",
       "      <th>8</th>\n",
       "      <td>Data Science for Beginners: 4 Books in 1 — Mas...</td>\n",
       "      <td>R$ 0,00</td>\n",
       "      <td>4,4 de 5 estrelas</td>\n",
       "      <td>1490</td>\n",
       "      <td>https://www.amazon.com.br/Data-Science-Beginne...</td>\n",
       "      <td>POPULAR</td>\n",
       "      <td>4.4</td>\n",
       "      <td>0.0</td>\n",
       "    </tr>\n",
       "    <tr>\n",
       "      <th>29</th>\n",
       "      <td>PYTHON: Learn Coding Programs with Python Prog...</td>\n",
       "      <td>R$ 0,00</td>\n",
       "      <td>3,7 de 5 estrelas</td>\n",
       "      <td>570</td>\n",
       "      <td>https://www.amazon.com.br/PYTHON-Programs-Prog...</td>\n",
       "      <td>POPULAR</td>\n",
       "      <td>3.7</td>\n",
       "      <td>0.0</td>\n",
       "    </tr>\n",
       "    <tr>\n",
       "      <th>41</th>\n",
       "      <td>Data Science, GDPR e LGPD: 20 coisas que você ...</td>\n",
       "      <td>R$ 0,00</td>\n",
       "      <td>4,2 de 5 estrelas</td>\n",
       "      <td>190</td>\n",
       "      <td>https://www.amazon.com.br/Data-Science-GDPR-LG...</td>\n",
       "      <td>NOT POPULAR</td>\n",
       "      <td>4.2</td>\n",
       "      <td>0.0</td>\n",
       "    </tr>\n",
       "    <tr>\n",
       "      <th>43</th>\n",
       "      <td>Manual Prático de Data Science</td>\n",
       "      <td>R$ 0,00</td>\n",
       "      <td>4,4 de 5 estrelas</td>\n",
       "      <td>280</td>\n",
       "      <td>https://www.amazon.com.br/Manual-Pr%C3%A1tico-...</td>\n",
       "      <td>POPULAR</td>\n",
       "      <td>4.4</td>\n",
       "      <td>0.0</td>\n",
       "    </tr>\n",
       "    <tr>\n",
       "      <th>59</th>\n",
       "      <td>Data Science for Beginners: 4 Books in 1 — Mas...</td>\n",
       "      <td>R$ 0,00</td>\n",
       "      <td>4,4 de 5 estrelas</td>\n",
       "      <td>1490</td>\n",
       "      <td>https://www.amazon.com.br/Data-Science-Beginne...</td>\n",
       "      <td>POPULAR</td>\n",
       "      <td>4.4</td>\n",
       "      <td>0.0</td>\n",
       "    </tr>\n",
       "  </tbody>\n",
       "</table>\n",
       "</div>"
      ],
      "text/plain": [
       "                                          description    price  \\\n",
       "8   Data Science for Beginners: 4 Books in 1 — Mas...  R$ 0,00   \n",
       "29  PYTHON: Learn Coding Programs with Python Prog...  R$ 0,00   \n",
       "41  Data Science, GDPR e LGPD: 20 coisas que você ...  R$ 0,00   \n",
       "43                     Manual Prático de Data Science  R$ 0,00   \n",
       "59  Data Science for Beginners: 4 Books in 1 — Mas...  R$ 0,00   \n",
       "\n",
       "               rating  review_count  \\\n",
       "8   4,4 de 5 estrelas          1490   \n",
       "29  3,7 de 5 estrelas           570   \n",
       "41  4,2 de 5 estrelas           190   \n",
       "43  4,4 de 5 estrelas           280   \n",
       "59  4,4 de 5 estrelas          1490   \n",
       "\n",
       "                                                  url   popularity  \\\n",
       "8   https://www.amazon.com.br/Data-Science-Beginne...      POPULAR   \n",
       "29  https://www.amazon.com.br/PYTHON-Programs-Prog...      POPULAR   \n",
       "41  https://www.amazon.com.br/Data-Science-GDPR-LG...  NOT POPULAR   \n",
       "43  https://www.amazon.com.br/Manual-Pr%C3%A1tico-...      POPULAR   \n",
       "59  https://www.amazon.com.br/Data-Science-Beginne...      POPULAR   \n",
       "\n",
       "    rating_num  price_num  \n",
       "8          4.4        0.0  \n",
       "29         3.7        0.0  \n",
       "41         4.2        0.0  \n",
       "43         4.4        0.0  \n",
       "59         4.4        0.0  "
      ]
     },
     "execution_count": 48,
     "metadata": {},
     "output_type": "execute_result"
    }
   ],
   "source": [
    "df[df['price_num']==df['price_num'].min()].head(5)"
   ]
  },
  {
   "cell_type": "code",
   "execution_count": 49,
   "metadata": {},
   "outputs": [
    {
     "data": {
      "text/html": [
       "<div>\n",
       "<style scoped>\n",
       "    .dataframe tbody tr th:only-of-type {\n",
       "        vertical-align: middle;\n",
       "    }\n",
       "\n",
       "    .dataframe tbody tr th {\n",
       "        vertical-align: top;\n",
       "    }\n",
       "\n",
       "    .dataframe thead th {\n",
       "        text-align: right;\n",
       "    }\n",
       "</style>\n",
       "<table border=\"1\" class=\"dataframe\">\n",
       "  <thead>\n",
       "    <tr style=\"text-align: right;\">\n",
       "      <th></th>\n",
       "      <th>description</th>\n",
       "      <th>price</th>\n",
       "      <th>rating</th>\n",
       "      <th>review_count</th>\n",
       "      <th>url</th>\n",
       "      <th>popularity</th>\n",
       "      <th>rating_num</th>\n",
       "      <th>price_num</th>\n",
       "    </tr>\n",
       "  </thead>\n",
       "  <tbody>\n",
       "    <tr>\n",
       "      <th>360</th>\n",
       "      <td>Estatística: O que é, para que serve, como fun...</td>\n",
       "      <td>R$ 53,90</td>\n",
       "      <td>4,8 de 5 estrelas</td>\n",
       "      <td>9410</td>\n",
       "      <td>https://www.amazon.com.br/Estat%C3%ADstica-par...</td>\n",
       "      <td>POPULAR</td>\n",
       "      <td>4.8</td>\n",
       "      <td>53.9</td>\n",
       "    </tr>\n",
       "  </tbody>\n",
       "</table>\n",
       "</div>"
      ],
      "text/plain": [
       "                                           description     price  \\\n",
       "360  Estatística: O que é, para que serve, como fun...  R$ 53,90   \n",
       "\n",
       "                rating  review_count  \\\n",
       "360  4,8 de 5 estrelas          9410   \n",
       "\n",
       "                                                   url popularity  rating_num  \\\n",
       "360  https://www.amazon.com.br/Estat%C3%ADstica-par...    POPULAR         4.8   \n",
       "\n",
       "     price_num  \n",
       "360       53.9  "
      ]
     },
     "execution_count": 49,
     "metadata": {},
     "output_type": "execute_result"
    }
   ],
   "source": [
    "df[df['review_count']==df['review_count'].max()].head(1)"
   ]
  },
  {
   "cell_type": "code",
   "execution_count": null,
   "metadata": {},
   "outputs": [],
   "source": []
  },
  {
   "cell_type": "code",
   "execution_count": null,
   "metadata": {},
   "outputs": [],
   "source": []
  }
 ],
 "metadata": {
  "interpreter": {
   "hash": "40d3a090f54c6569ab1632332b64b2c03c39dcf918b08424e98f38b5ae0af88f"
  },
  "kernelspec": {
   "display_name": "Python 3.9.7 ('base')",
   "language": "python",
   "name": "python3"
  },
  "language_info": {
   "codemirror_mode": {
    "name": "ipython",
    "version": 3
   },
   "file_extension": ".py",
   "mimetype": "text/x-python",
   "name": "python",
   "nbconvert_exporter": "python",
   "pygments_lexer": "ipython3",
   "version": "3.9.7"
  },
  "orig_nbformat": 4
 },
 "nbformat": 4,
 "nbformat_minor": 2
}
